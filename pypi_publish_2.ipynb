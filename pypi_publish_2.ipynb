{
 "cells": [
  {
   "cell_type": "code",
   "execution_count": 1,
   "metadata": {
    "id": "smezlPdumqat"
   },
   "outputs": [
    {
     "name": "stdout",
     "output_type": "stream",
     "text": [
      "Requirement already satisfied: pip in c:\\users\\nicks\\appdata\\local\\packages\\pythonsoftwarefoundation.python.3.10_qbz5n2kfra8p0\\localcache\\local-packages\\python310\\site-packages (22.2.2)\n"
     ]
    },
    {
     "name": "stderr",
     "output_type": "stream",
     "text": [
      "WARNING: Ignoring invalid distribution -ip (c:\\users\\nicks\\appdata\\local\\packages\\pythonsoftwarefoundation.python.3.10_qbz5n2kfra8p0\\localcache\\local-packages\\python310\\site-packages)\n",
      "WARNING: Ignoring invalid distribution -ip (c:\\users\\nicks\\appdata\\local\\packages\\pythonsoftwarefoundation.python.3.10_qbz5n2kfra8p0\\localcache\\local-packages\\python310\\site-packages)\n",
      "WARNING: Ignoring invalid distribution -ip (c:\\users\\nicks\\appdata\\local\\packages\\pythonsoftwarefoundation.python.3.10_qbz5n2kfra8p0\\localcache\\local-packages\\python310\\site-packages)\n",
      "WARNING: Ignoring invalid distribution -ip (c:\\users\\nicks\\appdata\\local\\packages\\pythonsoftwarefoundation.python.3.10_qbz5n2kfra8p0\\localcache\\local-packages\\python310\\site-packages)\n",
      "WARNING: Ignoring invalid distribution -ip (c:\\users\\nicks\\appdata\\local\\packages\\pythonsoftwarefoundation.python.3.10_qbz5n2kfra8p0\\localcache\\local-packages\\python310\\site-packages)\n",
      "WARNING: Ignoring invalid distribution -ip (c:\\users\\nicks\\appdata\\local\\packages\\pythonsoftwarefoundation.python.3.10_qbz5n2kfra8p0\\localcache\\local-packages\\python310\\site-packages)\n"
     ]
    },
    {
     "name": "stdout",
     "output_type": "stream",
     "text": [
      "Collecting build\n",
      "  Downloading build-0.8.0-py3-none-any.whl (17 kB)\n",
      "Collecting pep517>=0.9.1\n",
      "  Downloading pep517-0.13.0-py3-none-any.whl (18 kB)\n",
      "Collecting packaging>=19.0\n",
      "  Using cached packaging-21.3-py3-none-any.whl (40 kB)\n",
      "Collecting tomli>=1.0.0\n",
      "  Downloading tomli-2.0.1-py3-none-any.whl (12 kB)\n",
      "Collecting colorama\n",
      "  Downloading colorama-0.4.5-py2.py3-none-any.whl (16 kB)\n",
      "Collecting pyparsing!=3.0.5,>=2.0.2\n",
      "  Using cached pyparsing-3.0.9-py3-none-any.whl (98 kB)\n",
      "Installing collected packages: tomli, pyparsing, colorama, pep517, packaging, build\n",
      "Successfully installed build-0.8.0 colorama-0.4.5 packaging-21.3 pep517-0.13.0 pyparsing-3.0.9 tomli-2.0.1\n"
     ]
    },
    {
     "name": "stderr",
     "output_type": "stream",
     "text": [
      "WARNING: Ignoring invalid distribution -ip (c:\\users\\nicks\\appdata\\local\\packages\\pythonsoftwarefoundation.python.3.10_qbz5n2kfra8p0\\localcache\\local-packages\\python310\\site-packages)\n",
      "WARNING: Ignoring invalid distribution -ip (c:\\users\\nicks\\appdata\\local\\packages\\pythonsoftwarefoundation.python.3.10_qbz5n2kfra8p0\\localcache\\local-packages\\python310\\site-packages)\n",
      "WARNING: Ignoring invalid distribution -ip (c:\\users\\nicks\\appdata\\local\\packages\\pythonsoftwarefoundation.python.3.10_qbz5n2kfra8p0\\localcache\\local-packages\\python310\\site-packages)\n",
      "WARNING: Ignoring invalid distribution -ip (c:\\users\\nicks\\appdata\\local\\packages\\pythonsoftwarefoundation.python.3.10_qbz5n2kfra8p0\\localcache\\local-packages\\python310\\site-packages)\n",
      "WARNING: Ignoring invalid distribution -ip (c:\\users\\nicks\\appdata\\local\\packages\\pythonsoftwarefoundation.python.3.10_qbz5n2kfra8p0\\localcache\\local-packages\\python310\\site-packages)\n",
      "WARNING: Ignoring invalid distribution -ip (c:\\users\\nicks\\appdata\\local\\packages\\pythonsoftwarefoundation.python.3.10_qbz5n2kfra8p0\\localcache\\local-packages\\python310\\site-packages)\n",
      "WARNING: Ignoring invalid distribution -ip (c:\\users\\nicks\\appdata\\local\\packages\\pythonsoftwarefoundation.python.3.10_qbz5n2kfra8p0\\localcache\\local-packages\\python310\\site-packages)\n",
      "WARNING: Ignoring invalid distribution -ip (c:\\users\\nicks\\appdata\\local\\packages\\pythonsoftwarefoundation.python.3.10_qbz5n2kfra8p0\\localcache\\local-packages\\python310\\site-packages)\n",
      "WARNING: Ignoring invalid distribution -ip (c:\\users\\nicks\\appdata\\local\\packages\\pythonsoftwarefoundation.python.3.10_qbz5n2kfra8p0\\localcache\\local-packages\\python310\\site-packages)\n",
      "WARNING: Ignoring invalid distribution -ip (c:\\users\\nicks\\appdata\\local\\packages\\pythonsoftwarefoundation.python.3.10_qbz5n2kfra8p0\\localcache\\local-packages\\python310\\site-packages)\n",
      "WARNING: Ignoring invalid distribution -ip (c:\\users\\nicks\\appdata\\local\\packages\\pythonsoftwarefoundation.python.3.10_qbz5n2kfra8p0\\localcache\\local-packages\\python310\\site-packages)\n",
      "WARNING: Ignoring invalid distribution -ip (c:\\users\\nicks\\appdata\\local\\packages\\pythonsoftwarefoundation.python.3.10_qbz5n2kfra8p0\\localcache\\local-packages\\python310\\site-packages)\n"
     ]
    },
    {
     "name": "stdout",
     "output_type": "stream",
     "text": [
      "Requirement already satisfied: twine in c:\\users\\nicks\\appdata\\local\\packages\\pythonsoftwarefoundation.python.3.10_qbz5n2kfra8p0\\localcache\\local-packages\\python310\\site-packages (4.0.1)\n",
      "Requirement already satisfied: importlib-metadata>=3.6 in c:\\users\\nicks\\appdata\\local\\packages\\pythonsoftwarefoundation.python.3.10_qbz5n2kfra8p0\\localcache\\local-packages\\python310\\site-packages (from twine) (4.12.0)\n",
      "Requirement already satisfied: keyring>=15.1 in c:\\users\\nicks\\appdata\\local\\packages\\pythonsoftwarefoundation.python.3.10_qbz5n2kfra8p0\\localcache\\local-packages\\python310\\site-packages (from twine) (23.8.1)\n",
      "Requirement already satisfied: pkginfo>=1.8.1 in c:\\users\\nicks\\appdata\\local\\packages\\pythonsoftwarefoundation.python.3.10_qbz5n2kfra8p0\\localcache\\local-packages\\python310\\site-packages (from twine) (1.8.3)\n",
      "Requirement already satisfied: urllib3>=1.26.0 in c:\\users\\nicks\\appdata\\local\\packages\\pythonsoftwarefoundation.python.3.10_qbz5n2kfra8p0\\localcache\\local-packages\\python310\\site-packages (from twine) (1.26.11)\n",
      "Requirement already satisfied: rfc3986>=1.4.0 in c:\\users\\nicks\\appdata\\local\\packages\\pythonsoftwarefoundation.python.3.10_qbz5n2kfra8p0\\localcache\\local-packages\\python310\\site-packages (from twine) (2.0.0)\n",
      "Requirement already satisfied: readme-renderer>=35.0 in c:\\users\\nicks\\appdata\\local\\packages\\pythonsoftwarefoundation.python.3.10_qbz5n2kfra8p0\\localcache\\local-packages\\python310\\site-packages (from twine) (36.0)\n",
      "Requirement already satisfied: requests>=2.20 in c:\\users\\nicks\\appdata\\local\\packages\\pythonsoftwarefoundation.python.3.10_qbz5n2kfra8p0\\localcache\\local-packages\\python310\\site-packages (from twine) (2.28.1)\n",
      "Requirement already satisfied: rich>=12.0.0 in c:\\users\\nicks\\appdata\\local\\packages\\pythonsoftwarefoundation.python.3.10_qbz5n2kfra8p0\\localcache\\local-packages\\python310\\site-packages (from twine) (12.5.1)\n",
      "Requirement already satisfied: requests-toolbelt!=0.9.0,>=0.8.0 in c:\\users\\nicks\\appdata\\local\\packages\\pythonsoftwarefoundation.python.3.10_qbz5n2kfra8p0\\localcache\\local-packages\\python310\\site-packages (from twine) (0.9.1)\n",
      "Requirement already satisfied: zipp>=0.5 in c:\\users\\nicks\\appdata\\local\\packages\\pythonsoftwarefoundation.python.3.10_qbz5n2kfra8p0\\localcache\\local-packages\\python310\\site-packages (from importlib-metadata>=3.6->twine) (3.8.1)\n",
      "Requirement already satisfied: pywin32-ctypes!=0.1.0,!=0.1.1 in c:\\users\\nicks\\appdata\\local\\packages\\pythonsoftwarefoundation.python.3.10_qbz5n2kfra8p0\\localcache\\local-packages\\python310\\site-packages (from keyring>=15.1->twine) (0.2.0)\n",
      "Requirement already satisfied: bleach>=2.1.0 in c:\\users\\nicks\\appdata\\local\\packages\\pythonsoftwarefoundation.python.3.10_qbz5n2kfra8p0\\localcache\\local-packages\\python310\\site-packages (from readme-renderer>=35.0->twine) (5.0.1)\n",
      "Requirement already satisfied: Pygments>=2.5.1 in c:\\users\\nicks\\appdata\\local\\packages\\pythonsoftwarefoundation.python.3.10_qbz5n2kfra8p0\\localcache\\local-packages\\python310\\site-packages (from readme-renderer>=35.0->twine) (2.12.0)\n",
      "Requirement already satisfied: docutils>=0.13.1 in c:\\users\\nicks\\appdata\\local\\packages\\pythonsoftwarefoundation.python.3.10_qbz5n2kfra8p0\\localcache\\local-packages\\python310\\site-packages (from readme-renderer>=35.0->twine) (0.19)\n",
      "Requirement already satisfied: charset-normalizer<3,>=2 in c:\\users\\nicks\\appdata\\local\\packages\\pythonsoftwarefoundation.python.3.10_qbz5n2kfra8p0\\localcache\\local-packages\\python310\\site-packages (from requests>=2.20->twine) (2.1.0)\n",
      "Requirement already satisfied: certifi>=2017.4.17 in c:\\users\\nicks\\appdata\\local\\packages\\pythonsoftwarefoundation.python.3.10_qbz5n2kfra8p0\\localcache\\local-packages\\python310\\site-packages (from requests>=2.20->twine) (2022.6.15)\n",
      "Requirement already satisfied: idna<4,>=2.5 in c:\\users\\nicks\\appdata\\local\\packages\\pythonsoftwarefoundation.python.3.10_qbz5n2kfra8p0\\localcache\\local-packages\\python310\\site-packages (from requests>=2.20->twine) (3.3)\n",
      "Requirement already satisfied: commonmark<0.10.0,>=0.9.0 in c:\\users\\nicks\\appdata\\local\\packages\\pythonsoftwarefoundation.python.3.10_qbz5n2kfra8p0\\localcache\\local-packages\\python310\\site-packages (from rich>=12.0.0->twine) (0.9.1)\n",
      "Requirement already satisfied: six>=1.9.0 in c:\\users\\nicks\\appdata\\local\\packages\\pythonsoftwarefoundation.python.3.10_qbz5n2kfra8p0\\localcache\\local-packages\\python310\\site-packages (from bleach>=2.1.0->readme-renderer>=35.0->twine) (1.16.0)\n",
      "Requirement already satisfied: webencodings in c:\\users\\nicks\\appdata\\local\\packages\\pythonsoftwarefoundation.python.3.10_qbz5n2kfra8p0\\localcache\\local-packages\\python310\\site-packages (from bleach>=2.1.0->readme-renderer>=35.0->twine) (0.5.1)\n"
     ]
    },
    {
     "name": "stderr",
     "output_type": "stream",
     "text": [
      "WARNING: Ignoring invalid distribution -ip (c:\\users\\nicks\\appdata\\local\\packages\\pythonsoftwarefoundation.python.3.10_qbz5n2kfra8p0\\localcache\\local-packages\\python310\\site-packages)\n",
      "WARNING: Ignoring invalid distribution -ip (c:\\users\\nicks\\appdata\\local\\packages\\pythonsoftwarefoundation.python.3.10_qbz5n2kfra8p0\\localcache\\local-packages\\python310\\site-packages)\n",
      "WARNING: Ignoring invalid distribution -ip (c:\\users\\nicks\\appdata\\local\\packages\\pythonsoftwarefoundation.python.3.10_qbz5n2kfra8p0\\localcache\\local-packages\\python310\\site-packages)\n",
      "WARNING: Ignoring invalid distribution -ip (c:\\users\\nicks\\appdata\\local\\packages\\pythonsoftwarefoundation.python.3.10_qbz5n2kfra8p0\\localcache\\local-packages\\python310\\site-packages)\n",
      "WARNING: Ignoring invalid distribution -ip (c:\\users\\nicks\\appdata\\local\\packages\\pythonsoftwarefoundation.python.3.10_qbz5n2kfra8p0\\localcache\\local-packages\\python310\\site-packages)\n",
      "WARNING: Ignoring invalid distribution -ip (c:\\users\\nicks\\appdata\\local\\packages\\pythonsoftwarefoundation.python.3.10_qbz5n2kfra8p0\\localcache\\local-packages\\python310\\site-packages)\n"
     ]
    }
   ],
   "source": [
    "!python3 -m pip install --upgrade pip\n",
    "!python3 -m pip install --upgrade build\n",
    "!python3 -m pip install --upgrade twine"
   ]
  },
  {
   "cell_type": "markdown",
   "metadata": {
    "id": "6w4Yx4m8phXy"
   },
   "source": [
    "dir:\n",
    "```\n",
    "  packaging_tutorial/\n",
    "  ├── LICENSE\n",
    "  ├── pyproject.toml\n",
    "  ├── README.md\n",
    "  ├── src/\n",
    "  │   └── example_package/\n",
    "  │       ├── __init__.py\n",
    "  │       └── example.py\n",
    "  └── tests/\n",
    "```"
   ]
  },
  {
   "cell_type": "markdown",
   "metadata": {
    "id": "Jgg7JJh5nHWA"
   },
   "source": [
    "toml:\n",
    "\n",
    "  \n",
    "\n",
    "```\n",
    "  [build-system]\n",
    "  requires = [\"setuptools>=61.0\"]\n",
    "  build-backend = \"setuptools.build_meta\"\n",
    "  [project]\n",
    "  name = \"example_package_YOUR_USERNAME_HERE\"\n",
    "  version = \"0.0.1\"\n",
    "  authors = [\n",
    "    { name=\"Example Author\", email=\"author@example.com\" },\n",
    "  ]\n",
    "  description = \"A small example package\"\n",
    "  readme = \"README.md\"\n",
    "  license = { file=\"LICENSE\" }\n",
    "  requires-python = \">=3.7\"\n",
    "  classifiers = [\n",
    "      \"Programming Language :: Python :: 3\",\n",
    "      \"License :: OSI Approved :: MIT License\",\n",
    "      \"Operating System :: OS Independent\",\n",
    "  ]\n",
    "\n",
    "  [project.urls]\n",
    "  \"Homepage\" = \"https://github.com/pypa/sampleproject\"\n",
    "  \"Bug Tracker\" = \"https://github.com/pypa/sampleproject/issues\"\n",
    "```"
   ]
  },
  {
   "cell_type": "code",
   "execution_count": 2,
   "metadata": {
    "colab": {
     "base_uri": "https://localhost:8080/",
     "height": 17
    },
    "id": "vTBszcmZnwX3",
    "outputId": "87f0ed38-7c37-4d15-e694-2c8d16be4074"
   },
   "outputs": [
    {
     "data": {
      "application/javascript": [
       "\n",
       "window.open(\"https://choosealicense.com\");\n"
      ],
      "text/plain": [
       "<IPython.core.display.Javascript object>"
      ]
     },
     "metadata": {},
     "output_type": "display_data"
    }
   ],
   "source": [
    "#@title choose a license {display-mode: \"form\"}\n",
    "\n",
    "# This code will be hidden when the notebook is loaded.\n",
    "import IPython\n",
    "js_code = '''\n",
    "window.open(\"https://choosealicense.com\");\n",
    "'''\n",
    "display(IPython.display.Javascript(js_code))"
   ]
  },
  {
   "cell_type": "code",
   "execution_count": null,
   "metadata": {
    "id": "kYXZvvdcojms"
   },
   "outputs": [],
   "source": [
    "# Upload\n",
    "from google.colab import files\n",
    "\n",
    "uploaded = files.upload()"
   ]
  },
  {
   "cell_type": "code",
   "execution_count": 2,
   "metadata": {
    "colab": {
     "base_uri": "https://localhost:8080/"
    },
    "id": "hrqExaibpDXP",
    "outputId": "4a4ab874-c481-419d-85be-b232b7f0e7fc"
   },
   "outputs": [
    {
     "name": "stdout",
     "output_type": "stream",
     "text": [
      "* Creating venv isolated environment...\n",
      "* Installing packages in isolated environment... (setuptools>=61.0)\n",
      "* Getting dependencies for sdist...\n",
      "running egg_info\n",
      "creating src\\pyvdl.egg-info\n",
      "writing src\\pyvdl.egg-info\\PKG-INFO\n",
      "writing dependency_links to src\\pyvdl.egg-info\\dependency_links.txt\n",
      "writing top-level names to src\\pyvdl.egg-info\\top_level.txt\n",
      "writing manifest file 'src\\pyvdl.egg-info\\SOURCES.txt'\n",
      "reading manifest file 'src\\pyvdl.egg-info\\SOURCES.txt'\n",
      "adding license file 'LICENSE'\n",
      "writing manifest file 'src\\pyvdl.egg-info\\SOURCES.txt'\n",
      "* Building sdist...\n",
      "running sdist\n",
      "running egg_info\n",
      "writing src\\pyvdl.egg-info\\PKG-INFO\n",
      "writing dependency_links to src\\pyvdl.egg-info\\dependency_links.txt\n",
      "writing top-level names to src\\pyvdl.egg-info\\top_level.txt\n",
      "reading manifest file 'src\\pyvdl.egg-info\\SOURCES.txt'\n",
      "adding license file 'LICENSE'\n",
      "writing manifest file 'src\\pyvdl.egg-info\\SOURCES.txt'\n",
      "running check\n",
      "creating pyvdl-0.0.1\n",
      "creating pyvdl-0.0.1\\src\n",
      "creating pyvdl-0.0.1\\src\\pyvdl\n",
      "creating pyvdl-0.0.1\\src\\pyvdl.egg-info\n",
      "copying files to pyvdl-0.0.1...\n",
      "copying LICENSE -> pyvdl-0.0.1\n",
      "copying README.md -> pyvdl-0.0.1\n",
      "copying pyproject.toml -> pyvdl-0.0.1\n",
      "copying src\\pyvdl\\__init__.py -> pyvdl-0.0.1\\src\\pyvdl\n",
      "copying src\\pyvdl\\libs.py -> pyvdl-0.0.1\\src\\pyvdl\n",
      "copying src\\pyvdl\\other.py -> pyvdl-0.0.1\\src\\pyvdl\n",
      "copying src\\pyvdl.egg-info\\PKG-INFO -> pyvdl-0.0.1\\src\\pyvdl.egg-info\n",
      "copying src\\pyvdl.egg-info\\SOURCES.txt -> pyvdl-0.0.1\\src\\pyvdl.egg-info\n",
      "copying src\\pyvdl.egg-info\\dependency_links.txt -> pyvdl-0.0.1\\src\\pyvdl.egg-info\n",
      "copying src\\pyvdl.egg-info\\top_level.txt -> pyvdl-0.0.1\\src\\pyvdl.egg-info\n",
      "Writing pyvdl-0.0.1\\setup.cfg\n",
      "Creating tar archive\n",
      "removing 'pyvdl-0.0.1' (and everything under it)\n",
      "* Building wheel from sdist\n",
      "* Creating venv isolated environment...\n",
      "* Installing packages in isolated environment... (setuptools>=61.0)\n",
      "* Getting dependencies for wheel...\n",
      "running egg_info\n",
      "writing src\\pyvdl.egg-info\\PKG-INFO\n",
      "writing dependency_links to src\\pyvdl.egg-info\\dependency_links.txt\n",
      "writing top-level names to src\\pyvdl.egg-info\\top_level.txt\n",
      "reading manifest file 'src\\pyvdl.egg-info\\SOURCES.txt'\n",
      "adding license file 'LICENSE'\n",
      "writing manifest file 'src\\pyvdl.egg-info\\SOURCES.txt'\n",
      "* Installing packages in isolated environment... (wheel)\n",
      "* Building wheel...\n",
      "running bdist_wheel\n",
      "running build\n",
      "running build_py\n",
      "creating build\n",
      "creating build\\lib\n",
      "creating build\\lib\\pyvdl\n",
      "copying src\\pyvdl\\libs.py -> build\\lib\\pyvdl\n",
      "copying src\\pyvdl\\other.py -> build\\lib\\pyvdl\n",
      "copying src\\pyvdl\\__init__.py -> build\\lib\\pyvdl\n",
      "running egg_info\n",
      "writing src\\pyvdl.egg-info\\PKG-INFO\n",
      "writing dependency_links to src\\pyvdl.egg-info\\dependency_links.txt\n",
      "writing top-level names to src\\pyvdl.egg-info\\top_level.txt\n",
      "reading manifest file 'src\\pyvdl.egg-info\\SOURCES.txt'\n",
      "adding license file 'LICENSE'\n",
      "writing manifest file 'src\\pyvdl.egg-info\\SOURCES.txt'\n",
      "installing to build\\bdist.win-amd64\\wheel\n",
      "running install\n",
      "running install_lib\n",
      "creating build\\bdist.win-amd64\n",
      "creating build\\bdist.win-amd64\\wheel\n",
      "creating build\\bdist.win-amd64\\wheel\\pyvdl\n",
      "copying build\\lib\\pyvdl\\libs.py -> build\\bdist.win-amd64\\wheel\\.\\pyvdl\n",
      "copying build\\lib\\pyvdl\\other.py -> build\\bdist.win-amd64\\wheel\\.\\pyvdl\n",
      "copying build\\lib\\pyvdl\\__init__.py -> build\\bdist.win-amd64\\wheel\\.\\pyvdl\n",
      "running install_egg_info\n",
      "Copying src\\pyvdl.egg-info to build\\bdist.win-amd64\\wheel\\.\\pyvdl-0.0.1-py3.10.egg-info\n",
      "running install_scripts\n",
      "adding license file \"LICENSE\" (matched pattern \"LICEN[CS]E*\")\n",
      "creating build\\bdist.win-amd64\\wheel\\pyvdl-0.0.1.dist-info\\WHEEL\n",
      "creating 'C:\\Users\\nicks\\pyvdl\\vectors-draw-lib\\dist\\tmpfay6_8rb\\pyvdl-0.0.1-py3-none-any.whl' and adding 'build\\bdist.win-amd64\\wheel' to it\n",
      "adding 'pyvdl/__init__.py'\n",
      "adding 'pyvdl/libs.py'\n",
      "adding 'pyvdl/other.py'\n",
      "adding 'pyvdl-0.0.1.dist-info/LICENSE'\n",
      "adding 'pyvdl-0.0.1.dist-info/METADATA'\n",
      "adding 'pyvdl-0.0.1.dist-info/WHEEL'\n",
      "adding 'pyvdl-0.0.1.dist-info/top_level.txt'\n",
      "adding 'pyvdl-0.0.1.dist-info/RECORD'\n",
      "removing build\\bdist.win-amd64\\wheel\n",
      "Successfully built pyvdl-0.0.1.tar.gz and pyvdl-0.0.1-py3-none-any.whl\n"
     ]
    }
   ],
   "source": [
    "# build\n",
    "!python3 -m build"
   ]
  },
  {
   "cell_type": "code",
   "execution_count": 3,
   "metadata": {
    "id": "4HINALW7oU29"
   },
   "outputs": [
    {
     "name": "stdout",
     "output_type": "stream",
     "text": [
      "^C\n"
     ]
    }
   ],
   "source": [
    "# test publish\n",
    "!python3 -m twine upload --repository testpypi dist/*"
   ]
  },
  {
   "cell_type": "code",
   "execution_count": null,
   "metadata": {
    "id": "jKxeNzKOos0R"
   },
   "outputs": [],
   "source": [
    "# normal publish\n",
    "!python3 -m twine upload dist/*"
   ]
  }
 ],
 "metadata": {
  "colab": {
   "collapsed_sections": [],
   "name": "pypi publish 2.ipynb",
   "provenance": []
  },
  "kernelspec": {
   "display_name": "Python 3 (ipykernel)",
   "language": "python",
   "name": "python3"
  },
  "language_info": {
   "codemirror_mode": {
    "name": "ipython",
    "version": 3
   },
   "file_extension": ".py",
   "mimetype": "text/x-python",
   "name": "python",
   "nbconvert_exporter": "python",
   "pygments_lexer": "ipython3",
   "version": "3.9.12"
  }
 },
 "nbformat": 4,
 "nbformat_minor": 4
}
